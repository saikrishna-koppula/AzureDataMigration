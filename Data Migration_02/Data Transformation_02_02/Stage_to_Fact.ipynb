{
 "cells": [
  {
   "cell_type": "code",
   "execution_count": 0,
   "metadata": {
    "application/vnd.databricks.v1+cell": {
     "cellMetadata": {},
     "inputWidgets": {},
     "nuid": "5ea6864e-785a-4f82-ab5d-8e93ecb1b7e9",
     "showTitle": false,
     "title": ""
    }
   },
   "outputs": [],
   "source": [
    "#This notebook is used to transform and move data from the stage layer to the fact layer"
   ]
  },
  {
   "cell_type": "code",
   "execution_count": 0,
   "metadata": {
    "application/vnd.databricks.v1+cell": {
     "cellMetadata": {
      "byteLimit": 2048000,
      "rowLimit": 10000
     },
     "inputWidgets": {},
     "nuid": "8957331f-df56-45c3-9b11-ed13d27c4614",
     "showTitle": false,
     "title": ""
    }
   },
   "outputs": [
    {
     "output_type": "execute_result",
     "data": {
      "text/plain": [
       "[FileInfo(path='dbfs:/mnt/stagelayer/pos/Customer/', name='Customer/', size=0, modificationTime=1719080979000),\n",
       " FileInfo(path='dbfs:/mnt/stagelayer/pos/Order/', name='Order/', size=0, modificationTime=1719080993000),\n",
       " FileInfo(path='dbfs:/mnt/stagelayer/pos/Orderline/', name='Orderline/', size=0, modificationTime=1719080997000),\n",
       " FileInfo(path='dbfs:/mnt/stagelayer/pos/Product/', name='Product/', size=0, modificationTime=1719081000000)]"
      ]
     },
     "execution_count": 1,
     "metadata": {},
     "output_type": "execute_result"
    }
   ],
   "source": [
    "dbutils.fs.ls(\"mnt/stagelayer/pos\")"
   ]
  },
  {
   "cell_type": "code",
   "execution_count": 0,
   "metadata": {
    "application/vnd.databricks.v1+cell": {
     "cellMetadata": {
      "byteLimit": 2048000,
      "rowLimit": 10000
     },
     "inputWidgets": {},
     "nuid": "4bef16ef-0e19-4e67-a8f4-724025d7191f",
     "showTitle": false,
     "title": ""
    }
   },
   "outputs": [
    {
     "output_type": "execute_result",
     "data": {
      "text/plain": [
       "[]"
      ]
     },
     "execution_count": 3,
     "metadata": {},
     "output_type": "execute_result"
    }
   ],
   "source": [
    "dbutils.fs.ls(\"mnt/factlayer/\")"
   ]
  },
  {
   "cell_type": "code",
   "execution_count": 0,
   "metadata": {
    "application/vnd.databricks.v1+cell": {
     "cellMetadata": {
      "byteLimit": 2048000,
      "rowLimit": 10000
     },
     "inputWidgets": {},
     "nuid": "7237db30-70f0-498f-a693-8ea2ded50c51",
     "showTitle": false,
     "title": ""
    }
   },
   "outputs": [
    {
     "output_type": "execute_result",
     "data": {
      "text/plain": [
       "['Customer', 'Order', 'Orderline', 'Product']"
      ]
     },
     "execution_count": 5,
     "metadata": {},
     "output_type": "execute_result"
    }
   ],
   "source": [
    "table_name = []\n",
    "\n",
    "for table in dbutils.fs.ls('mnt/stagelayer/pos/'):\n",
    "    table_name.append(table.name.split('/')[0])\n",
    "\n",
    "table_name"
   ]
  },
  {
   "cell_type": "code",
   "execution_count": 0,
   "metadata": {
    "application/vnd.databricks.v1+cell": {
     "cellMetadata": {
      "byteLimit": 2048000,
      "rowLimit": 10000
     },
     "inputWidgets": {},
     "nuid": "39636205-f54c-42de-8d1d-cc040c95fa51",
     "showTitle": false,
     "title": ""
    }
   },
   "outputs": [],
   "source": [
    "for table in table_name:\n",
    "    input_path = '/mnt/stagelayer/pos/' + table\n",
    "    df = spark.read.format('delta').load(input_path)\n",
    "    \n",
    "    df = make_transformation(df)\n",
    "\n",
    "    output_path = '/mnt/factlayer/pos/' + table + '/'\n",
    "    df.write.format('delta').mode(\"overwrite\").save(output_path)"
   ]
  }
 ],
 "metadata": {
  "application/vnd.databricks.v1+notebook": {
   "dashboards": [],
   "environmentMetadata": null,
   "language": "python",
   "notebookMetadata": {
    "pythonIndentUnit": 4
   },
   "notebookName": "Stage_to_Fact",
   "widgets": {}
  }
 },
 "nbformat": 4,
 "nbformat_minor": 0
}
