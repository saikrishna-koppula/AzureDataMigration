{
 "cells": [
  {
   "cell_type": "code",
   "execution_count": 0,
   "metadata": {
    "application/vnd.databricks.v1+cell": {
     "cellMetadata": {},
     "inputWidgets": {},
     "nuid": "ab569c55-8436-4460-8dfa-410fae8cf806",
     "showTitle": false,
     "title": ""
    }
   },
   "outputs": [],
   "source": [
    "#This notebook is used to transform and move data from source layer to stage layer"
   ]
  },
  {
   "cell_type": "code",
   "execution_count": 0,
   "metadata": {
    "application/vnd.databricks.v1+cell": {
     "cellMetadata": {
      "byteLimit": 2048000,
      "rowLimit": 10000
     },
     "inputWidgets": {},
     "nuid": "4473b462-1990-44ae-a4c8-5e56fc8fec09",
     "showTitle": false,
     "title": ""
    }
   },
   "outputs": [
    {
     "output_type": "execute_result",
     "data": {
      "text/plain": [
       "[FileInfo(path='dbfs:/mnt/sourcelayer/pos/Customer/', name='Customer/', size=0, modificationTime=1718845512000),\n",
       " FileInfo(path='dbfs:/mnt/sourcelayer/pos/Order/', name='Order/', size=0, modificationTime=1718845595000),\n",
       " FileInfo(path='dbfs:/mnt/sourcelayer/pos/Orderline/', name='Orderline/', size=0, modificationTime=1718845515000),\n",
       " FileInfo(path='dbfs:/mnt/sourcelayer/pos/Product/', name='Product/', size=0, modificationTime=1718845513000)]"
      ]
     },
     "execution_count": 1,
     "metadata": {},
     "output_type": "execute_result"
    }
   ],
   "source": [
    "dbutils.fs.ls(\"mnt/sourcelayer/pos\")"
   ]
  },
  {
   "cell_type": "code",
   "execution_count": 0,
   "metadata": {
    "application/vnd.databricks.v1+cell": {
     "cellMetadata": {
      "byteLimit": 2048000,
      "rowLimit": 10000
     },
     "inputWidgets": {},
     "nuid": "9a75228f-95ee-4fa2-b325-04ed163f4a20",
     "showTitle": false,
     "title": ""
    }
   },
   "outputs": [
    {
     "output_type": "execute_result",
     "data": {
      "text/plain": [
       "[]"
      ]
     },
     "execution_count": 3,
     "metadata": {},
     "output_type": "execute_result"
    }
   ],
   "source": [
    "dbutils.fs.ls(\"mnt/stagelayer/\")"
   ]
  },
  {
   "cell_type": "code",
   "execution_count": 0,
   "metadata": {
    "application/vnd.databricks.v1+cell": {
     "cellMetadata": {
      "byteLimit": 2048000,
      "rowLimit": 10000
     },
     "inputWidgets": {},
     "nuid": "bbb573b1-deea-49d6-a162-772b78c994b7",
     "showTitle": false,
     "title": ""
    }
   },
   "outputs": [
    {
     "output_type": "execute_result",
     "data": {
      "text/plain": [
       "['Customer', 'Order', 'Orderline', 'Product']"
      ]
     },
     "execution_count": 5,
     "metadata": {},
     "output_type": "execute_result"
    }
   ],
   "source": [
    "table_name = []\n",
    "\n",
    "for table in dbutils.fs.ls('mnt/sourcelayer/pos/'):\n",
    "    table_name.append(table.name.split('/')[0])\n",
    "\n",
    "table_name"
   ]
  },
  {
   "cell_type": "code",
   "execution_count": 0,
   "metadata": {
    "application/vnd.databricks.v1+cell": {
     "cellMetadata": {
      "byteLimit": 2048000,
      "rowLimit": 10000
     },
     "inputWidgets": {},
     "nuid": "99a13f0b-eff5-41b4-b142-288bf3dd7a24",
     "showTitle": false,
     "title": ""
    }
   },
   "outputs": [],
   "source": [
    "for table in table_name:\n",
    "    input_path = '/mnt/sourcelayer/pos/' + table + '/' + table + '.parquet'\n",
    "    df = spark.read.format('parquet').load(input_path)\n",
    "    \n",
    "    df = make_transformation(df)\n",
    "\n",
    "    output_path = '/mnt/stagelayer/pos/' + table + '/'\n",
    "    df.write.format('delta').mode(\"overwrite\").save(output_path)"
   ]
  }
 ],
 "metadata": {
  "application/vnd.databricks.v1+notebook": {
   "dashboards": [],
   "environmentMetadata": null,
   "language": "python",
   "notebookMetadata": {
    "pythonIndentUnit": 4
   },
   "notebookName": "Source_to_Satge",
   "widgets": {}
  }
 },
 "nbformat": 4,
 "nbformat_minor": 0
}
